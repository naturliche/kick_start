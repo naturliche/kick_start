{
 "cells": [
  {
   "attachments": {
    "image.png": {
     "image/png": "[encoded data removed]"
    }
   },
   "cell_type": "markdown",
   "metadata": {},
   "source": [
    "![image.png](attachment:image.png)"
   ]
  },
  {
   "cell_type": "code",
   "execution_count": null,
   "metadata": {},
   "outputs": [],
   "source": [
    "#算E(0)\n",
    "#T是案列的数量\n",
    "#N代表包裹里的数量\n",
    "#K代表放回重取的机会，如果进行到K+1，则最后为K+1的value\n",
    "#V代表包裹里每个元素的值\n",
    "#print(\"请输入案列的个数\")\n",
    "T = int(input())\n",
    "for i in range(T):\n",
    "    #print(\"请输入包裹里包含的数量N和K值\")\n",
    "    N,K = [int(num) for num in input().split()]\n",
    "    item_value = [int(num) for num in input().split]\n",
    "    if K==0:\n",
    "        E = sum(item_value)/N\n",
    "    else:\n",
    "        item_value.sort(reverse=True)  #降序\n",
    "        \n",
    "        pre_sum = [item_value[0]]\n",
    "        for j in range(1,N):\n",
    "            pre_sum.append(pre_sum[-1] + item_value[j])\n",
    "        dp = []\n",
    "        dp.append(pre_sum[-1]/N)\n",
    "        \n",
    "        for k in range(1,K+1):\n",
    "            j = 0\n",
    "            while j<N and item_value[j] >= dp[-1]:\n",
    "                j = j +1\n",
    "            dp.append((dp[-1]*(N-j)+pre_sum[j-1])/N)\n",
    "        E = dp[-1]\n",
    "    print(\"Case #{}: {}\".format(i+1,E))"
   ]
  },
  {
   "cell_type": "code",
   "execution_count": null,
   "metadata": {},
   "outputs": [],
   "source": []
  }
 ],
 "metadata": {
  "kernelspec": {
   "display_name": "Python 3",
   "language": "python",
   "name": "python3"
  },
  "language_info": {
   "codemirror_mode": {
    "name": "ipython",
    "version": 3
   },
   "file_extension": ".py",
   "mimetype": "text/x-python",
   "name": "python",
   "nbconvert_exporter": "python",
   "pygments_lexer": "ipython3",
   "version": "3.7.4"
  }
 },
 "nbformat": 4,
 "nbformat_minor": 2
}
