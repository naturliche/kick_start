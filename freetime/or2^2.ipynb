{
 "cells": [
  {
   "cell_type": "code",
   "execution_count": 5,
   "metadata": {},
   "outputs": [],
   "source": [
    "def search(N,arr):\n",
    "    result = []\n",
    "    for i in range(N):\n",
    "        fit = []\n",
    "        first_num = int(arr[i])\n",
    "        for j in range(N):\n",
    "            if i != j:\n",
    "                second_num = int(arr[j])\n",
    "                result0 = first_num | second_num + 1\n",
    "                for k in range(15):\n",
    "                    result1 = 2 ** k\n",
    "                    if result0 == result1:\n",
    "                        fit.append(second_num)\n",
    "        if len(fit)==0:\n",
    "            result.append(-1)\n",
    "        else:\n",
    "            result.append(min(fit))\n",
    "    return result\n",
    "\n",
    "#找针对列表中每个元素i符合以下公式的j,i!=j\n",
    "#a[i] | a[j] + 1 = 2 **x"
   ]
  },
  {
   "cell_type": "code",
   "execution_count": 6,
   "metadata": {},
   "outputs": [
    {
     "name": "stdout",
     "output_type": "stream",
     "text": [
      "4\n",
      "2 3 4 5\n"
     ]
    }
   ],
   "source": [
    "N = int(input())\n",
    "arr = [s for s in input().split()]"
   ]
  },
  {
   "cell_type": "code",
   "execution_count": 7,
   "metadata": {},
   "outputs": [
    {
     "data": {
      "text/plain": [
       "[-1, -1, 3, -1]"
      ]
     },
     "execution_count": 7,
     "metadata": {},
     "output_type": "execute_result"
    }
   ],
   "source": [
    "search(N,arr)"
   ]
  },
  {
   "cell_type": "code",
   "execution_count": 8,
   "metadata": {},
   "outputs": [
    {
     "name": "stdout",
     "output_type": "stream",
     "text": [
      "[-1, -1, 3, -1]\n"
     ]
    }
   ],
   "source": [
    "print(search(N,arr))"
   ]
  },
  {
   "cell_type": "code",
   "execution_count": 13,
   "metadata": {},
   "outputs": [
    {
     "data": {
      "text/plain": [
       "7"
      ]
     },
     "execution_count": 13,
     "metadata": {},
     "output_type": "execute_result"
    }
   ],
   "source": [
    "3|4+1"
   ]
  },
  {
   "cell_type": "code",
   "execution_count": null,
   "metadata": {},
   "outputs": [],
   "source": []
  }
 ],
 "metadata": {
  "kernelspec": {
   "display_name": "Python 3",
   "language": "python",
   "name": "python3"
  },
  "language_info": {
   "codemirror_mode": {
    "name": "ipython",
    "version": 3
   },
   "file_extension": ".py",
   "mimetype": "text/x-python",
   "name": "python",
   "nbconvert_exporter": "python",
   "pygments_lexer": "ipython3",
   "version": "3.7.4"
  }
 },
 "nbformat": 4,
 "nbformat_minor": 2
}
