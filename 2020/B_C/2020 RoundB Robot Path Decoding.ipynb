{
 "cells": [
  {
   "cell_type": "markdown",
   "metadata": {},
   "source": [
    "# 2020 RoundB Robot Path Decoding"
   ]
  },
  {
   "attachments": {
    "image.png": {
     "image/png": "[encoded data removed]"
    }
   },
   "cell_type": "markdown",
   "metadata": {},
   "source": [
    "![image.png](attachment:image.png)"
   ]
  },
  {
   "cell_type": "markdown",
   "metadata": {},
   "source": [
    "------------------------------------------"
   ]
  },
  {
   "cell_type": "code",
   "execution_count": 8,
   "metadata": {},
   "outputs": [
    {
     "name": "stdout",
     "output_type": "stream",
     "text": [
      "Balanced\n"
     ]
    }
   ],
   "source": [
    "#找匹配的符号\n",
    "def areParanthesisBalanced(expr) : \n",
    "    stack = [] \n",
    "  \n",
    "    # Traversing the Expression  \n",
    "    for char in expr: \n",
    "        if char in [\"(\", \"{\", \"[\"]: \n",
    "  \n",
    "            # Push the element in the stack  \n",
    "            stack.append(char) \n",
    "        else: \n",
    "  \n",
    "            # IF current character is not opening  \n",
    "            # bracket, then it must be closing.   \n",
    "            # So stack cannot be empty at this point.  \n",
    "            if not stack: \n",
    "                return False\n",
    "            current_char = stack.pop() \n",
    "            if current_char == '(': \n",
    "                if char != \")\": \n",
    "                    return False\n",
    "            if current_char == '{': \n",
    "                if char != \"}\": \n",
    "                    return False\n",
    "            if current_char == '[': \n",
    "                if char != \"]\": \n",
    "                    return False\n",
    "  \n",
    "    # Check Empty Stack \n",
    "    if stack: \n",
    "        return False\n",
    "    return True\n",
    "  \n",
    "  \n",
    "# Driver Code \n",
    "if __name__ == \"__main__\" :  \n",
    "    expr = \"{()}[]\";  \n",
    "    if areParanthesisBalanced(expr) : \n",
    "        print(\"Balanced\");  \n",
    "    else : \n",
    "        print(\"Not Balanced\");"
   ]
  },
  {
   "cell_type": "markdown",
   "metadata": {},
   "source": [
    "-------------------------"
   ]
  },
  {
   "cell_type": "markdown",
   "metadata": {},
   "source": [
    "### 栈"
   ]
  },
  {
   "cell_type": "markdown",
   "metadata": {},
   "source": [
    "线性数据结构，具有后进先出的特征"
   ]
  },
  {
   "cell_type": "markdown",
   "metadata": {},
   "source": [
    "用list来实现栈，栈的top元素为list[-1],base元素为list[0]"
   ]
  },
  {
   "cell_type": "code",
   "execution_count": 9,
   "metadata": {},
   "outputs": [],
   "source": [
    "class Stack:\n",
    "    def __init__(self):\n",
    "        self.items = []\n",
    "\n",
    "    def isEmpty(self):\n",
    "        # 判断是否为空\n",
    "        return self.items == []\n",
    "\n",
    "    def push(self, item):\n",
    "        # 压入一个元素，无返回值\n",
    "        self.items.append(item)\n",
    "\n",
    "    def pop(self):\n",
    "        # 弹出一个元素\n",
    "        return self.items.pop()\n",
    "\n",
    "    def peek(self):\n",
    "        # 返回top元素，不改变原Stack\n",
    "        return self.items[len(self.items) - 1]\n",
    "\n",
    "    def size(self):\n",
    "        # 返回Stack的大小\n",
    "        return len(self.items)\n"
   ]
  },
  {
   "cell_type": "markdown",
   "metadata": {},
   "source": [
    "### 思路"
   ]
  },
  {
   "attachments": {
    "image.png": {
     "image/png": "[encoded data removed]"
    }
   },
   "cell_type": "markdown",
   "metadata": {},
   "source": [
    "![image.png](attachment:image.png)"
   ]
  },
  {
   "cell_type": "markdown",
   "metadata": {},
   "source": [
    "- 展开全为N，S，E，W的字符串  \n",
    "- [ ] 首先找层数，即一共多少个“（”，然后从最后一个“（”开始，找与他最为相近的“）”，把它们替换掉"
   ]
  },
  {
   "cell_type": "code",
   "execution_count": 42,
   "metadata": {},
   "outputs": [
    {
     "name": "stdout",
     "output_type": "stream",
     "text": [
      "11\n"
     ]
    }
   ],
   "source": [
    "str_pro = \"2(3(NW)2(W2(EE)W))\"\n",
    "count_bracket = str_pro.count(\"(\")\n",
    "'''\n",
    "index = str_pro.find(\"(\")\n",
    "index4 = str_pro.find(\"(\",index+8)\n",
    "'''\n",
    "for i in range(count_bracket):\n",
    "    index = str_pro.rfind(\"(\")\n",
    "    for j in range(index+1,len(str_pro)):\n",
    "        if str_pro[j] == \")\":\n",
    "            print(j)"
   ]
  },
  {
   "cell_type": "code",
   "execution_count": 79,
   "metadata": {},
   "outputs": [
    {
     "name": "stdout",
     "output_type": "stream",
     "text": [
      "sjsfjshkjsfjs\n"
     ]
    }
   ],
   "source": [
    "str = \"sadhkad\"\n",
    "str[1:3]\n",
    "str.rfind(\"(\")\n",
    "str = str.replace(str[1:3],\"jsfjs\")\n",
    "print(str)"
   ]
  },
  {
   "cell_type": "code",
   "execution_count": 84,
   "metadata": {},
   "outputs": [],
   "source": [
    "def ClosingBracket(index_front,str_pro):\n",
    "    for i in range(index_front+1,len(str_pro)):\n",
    "        if str_pro[i] == \")\":\n",
    "            return i"
   ]
  },
  {
   "cell_type": "code",
   "execution_count": 87,
   "metadata": {},
   "outputs": [],
   "source": [
    "str_pro = \"2(3(NW)2(W2(EE)W))\"\n",
    "def expanded(str_pro):\n",
    "    str_test = \"\"\n",
    "    #找到最后一个（\n",
    "    #这一部分一直在递归\n",
    "    index_front = str_pro.rfind(\"(\")\n",
    "    if index_front != -1:\n",
    "        index_behind = ClosingBracket(index_front,str_pro)\n",
    "        num_index = index_front - 1\n",
    "        num = str_pro[num_index]\n",
    "        str_test = str_test + str_pro[index_front+1:index_behind]*int(num)\n",
    "        str_pro = str_pro.replace(str_pro[num_index:index_behind+1],str_test)\n",
    "        #print(str_pro)\n",
    "        return expanded(str_pro)\n",
    "    return str_pro"
   ]
  },
  {
   "cell_type": "code",
   "execution_count": 95,
   "metadata": {},
   "outputs": [
    {
     "name": "stdout",
     "output_type": "stream",
     "text": [
      "NWNWNWWEEEEWWEEEEWNWNWNWWEEEEWWEEEEW\n"
     ]
    }
   ],
   "source": [
    "str_exp_pro = expanded(str_pro)\n",
    "print(str_exp_pro)"
   ]
  },
  {
   "cell_type": "markdown",
   "metadata": {},
   "source": [
    "--------------------------------"
   ]
  },
  {
   "cell_type": "code",
   "execution_count": 92,
   "metadata": {},
   "outputs": [
    {
     "name": "stdout",
     "output_type": "stream",
     "text": [
      "1\n"
     ]
    }
   ],
   "source": [
    "T = int(input())"
   ]
  },
  {
   "cell_type": "code",
   "execution_count": 99,
   "metadata": {},
   "outputs": [
    {
     "name": "stdout",
     "output_type": "stream",
     "text": [
      "6\n",
      "0\n",
      "14\n",
      "16\n"
     ]
    }
   ],
   "source": [
    "N_count = str_exp_pro.count(\"N\")\n",
    "print(N_count)\n",
    "S_count = str_exp_pro.count(\"S\")\n",
    "print(S_count)\n",
    "W_count = str_exp_pro.count(\"W\")\n",
    "print(W_count)\n",
    "E_count = str_exp_pro.count(\"E\")\n",
    "print(E_count)"
   ]
  },
  {
   "cell_type": "code",
   "execution_count": 105,
   "metadata": {},
   "outputs": [
    {
     "name": "stdout",
     "output_type": "stream",
     "text": [
      "3 999999995\n"
     ]
    }
   ],
   "source": [
    "x = (1 + E_count - W_count)%10**9\n",
    "y = (1 + S_count - N_count)%10**9\n",
    "print(x,y)"
   ]
  },
  {
   "cell_type": "code",
   "execution_count": 102,
   "metadata": {},
   "outputs": [
    {
     "data": {
      "text/plain": [
       "1"
      ]
     },
     "execution_count": 102,
     "metadata": {},
     "output_type": "execute_result"
    }
   ],
   "source": [
    "1%10"
   ]
  },
  {
   "cell_type": "code",
   "execution_count": 104,
   "metadata": {},
   "outputs": [
    {
     "data": {
      "text/plain": [
       "1000000000"
      ]
     },
     "execution_count": 104,
     "metadata": {},
     "output_type": "execute_result"
    }
   ],
   "source": [
    "10**9"
   ]
  },
  {
   "cell_type": "code",
   "execution_count": null,
   "metadata": {},
   "outputs": [],
   "source": []
  }
 ],
 "metadata": {
  "kernelspec": {
   "display_name": "Python 3",
   "language": "python",
   "name": "python3"
  },
  "language_info": {
   "codemirror_mode": {
    "name": "ipython",
    "version": 3
   },
   "file_extension": ".py",
   "mimetype": "text/x-python",
   "name": "python",
   "nbconvert_exporter": "python",
   "pygments_lexer": "ipython3",
   "version": "3.7.4"
  }
 },
 "nbformat": 4,
 "nbformat_minor": 2
}
